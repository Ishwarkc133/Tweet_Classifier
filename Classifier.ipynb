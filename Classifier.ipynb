{
 "cells": [
  {
   "cell_type": "code",
   "execution_count": 1,
   "id": "723862ea",
   "metadata": {
    "scrolled": true
   },
   "outputs": [
    {
     "data": {
      "text/html": [
       "<div>\n",
       "<style scoped>\n",
       "    .dataframe tbody tr th:only-of-type {\n",
       "        vertical-align: middle;\n",
       "    }\n",
       "\n",
       "    .dataframe tbody tr th {\n",
       "        vertical-align: top;\n",
       "    }\n",
       "\n",
       "    .dataframe thead th {\n",
       "        text-align: right;\n",
       "    }\n",
       "</style>\n",
       "<table border=\"1\" class=\"dataframe\">\n",
       "  <thead>\n",
       "    <tr style=\"text-align: right;\">\n",
       "      <th></th>\n",
       "      <th>ï»¿id</th>\n",
       "      <th>keyword</th>\n",
       "      <th>location</th>\n",
       "      <th>text</th>\n",
       "      <th>target</th>\n",
       "    </tr>\n",
       "  </thead>\n",
       "  <tbody>\n",
       "    <tr>\n",
       "      <th>0</th>\n",
       "      <td>0</td>\n",
       "      <td>ablaze</td>\n",
       "      <td>NaN</td>\n",
       "      <td>Communal violence in Bhainsa, Telangana. \"Ston...</td>\n",
       "      <td>1</td>\n",
       "    </tr>\n",
       "    <tr>\n",
       "      <th>1</th>\n",
       "      <td>1</td>\n",
       "      <td>ablaze</td>\n",
       "      <td>NaN</td>\n",
       "      <td>Telangana: Section 144 has been imposed in Bha...</td>\n",
       "      <td>1</td>\n",
       "    </tr>\n",
       "    <tr>\n",
       "      <th>2</th>\n",
       "      <td>2</td>\n",
       "      <td>ablaze</td>\n",
       "      <td>New York City</td>\n",
       "      <td>Arsonist sets cars ablaze at dealership https:...</td>\n",
       "      <td>1</td>\n",
       "    </tr>\n",
       "    <tr>\n",
       "      <th>3</th>\n",
       "      <td>3</td>\n",
       "      <td>ablaze</td>\n",
       "      <td>Morgantown, WV</td>\n",
       "      <td>Arsonist sets cars ablaze at dealership https:...</td>\n",
       "      <td>1</td>\n",
       "    </tr>\n",
       "    <tr>\n",
       "      <th>4</th>\n",
       "      <td>4</td>\n",
       "      <td>ablaze</td>\n",
       "      <td>NaN</td>\n",
       "      <td>\"Lord Jesus, your love brings freedom and pard...</td>\n",
       "      <td>0</td>\n",
       "    </tr>\n",
       "  </tbody>\n",
       "</table>\n",
       "</div>"
      ],
      "text/plain": [
       "   ï»¿id keyword        location  \\\n",
       "0      0  ablaze             NaN   \n",
       "1      1  ablaze             NaN   \n",
       "2      2  ablaze   New York City   \n",
       "3      3  ablaze  Morgantown, WV   \n",
       "4      4  ablaze             NaN   \n",
       "\n",
       "                                                text  target  \n",
       "0  Communal violence in Bhainsa, Telangana. \"Ston...       1  \n",
       "1  Telangana: Section 144 has been imposed in Bha...       1  \n",
       "2  Arsonist sets cars ablaze at dealership https:...       1  \n",
       "3  Arsonist sets cars ablaze at dealership https:...       1  \n",
       "4  \"Lord Jesus, your love brings freedom and pard...       0  "
      ]
     },
     "execution_count": 1,
     "metadata": {},
     "output_type": "execute_result"
    }
   ],
   "source": [
    "import pandas as pd\n",
    "df = pd.read_csv(\"tweets.csv\",encoding='ISO-8859-1')\n",
    "df.head(5)"
   ]
  },
  {
   "cell_type": "code",
   "execution_count": 2,
   "id": "d29a8243",
   "metadata": {},
   "outputs": [
    {
     "data": {
      "text/html": [
       "<div>\n",
       "<style scoped>\n",
       "    .dataframe tbody tr th:only-of-type {\n",
       "        vertical-align: middle;\n",
       "    }\n",
       "\n",
       "    .dataframe tbody tr th {\n",
       "        vertical-align: top;\n",
       "    }\n",
       "\n",
       "    .dataframe thead th {\n",
       "        text-align: right;\n",
       "    }\n",
       "</style>\n",
       "<table border=\"1\" class=\"dataframe\">\n",
       "  <thead>\n",
       "    <tr style=\"text-align: right;\">\n",
       "      <th></th>\n",
       "      <th>text</th>\n",
       "      <th>target</th>\n",
       "    </tr>\n",
       "  </thead>\n",
       "  <tbody>\n",
       "    <tr>\n",
       "      <th>0</th>\n",
       "      <td>Communal violence in Bhainsa, Telangana. \"Ston...</td>\n",
       "      <td>1</td>\n",
       "    </tr>\n",
       "    <tr>\n",
       "      <th>1</th>\n",
       "      <td>Telangana: Section 144 has been imposed in Bha...</td>\n",
       "      <td>1</td>\n",
       "    </tr>\n",
       "    <tr>\n",
       "      <th>2</th>\n",
       "      <td>Arsonist sets cars ablaze at dealership https:...</td>\n",
       "      <td>1</td>\n",
       "    </tr>\n",
       "    <tr>\n",
       "      <th>3</th>\n",
       "      <td>Arsonist sets cars ablaze at dealership https:...</td>\n",
       "      <td>1</td>\n",
       "    </tr>\n",
       "    <tr>\n",
       "      <th>4</th>\n",
       "      <td>\"Lord Jesus, your love brings freedom and pard...</td>\n",
       "      <td>0</td>\n",
       "    </tr>\n",
       "  </tbody>\n",
       "</table>\n",
       "</div>"
      ],
      "text/plain": [
       "                                                text  target\n",
       "0  Communal violence in Bhainsa, Telangana. \"Ston...       1\n",
       "1  Telangana: Section 144 has been imposed in Bha...       1\n",
       "2  Arsonist sets cars ablaze at dealership https:...       1\n",
       "3  Arsonist sets cars ablaze at dealership https:...       1\n",
       "4  \"Lord Jesus, your love brings freedom and pard...       0"
      ]
     },
     "execution_count": 2,
     "metadata": {},
     "output_type": "execute_result"
    }
   ],
   "source": [
    "df = df.drop(['ï»¿id','keyword','location'],axis=1)\n",
    "df.head()"
   ]
  },
  {
   "cell_type": "code",
   "execution_count": 3,
   "id": "64a19fdf",
   "metadata": {},
   "outputs": [
    {
     "data": {
      "text/plain": [
       "0    9256\n",
       "1    2114\n",
       "Name: target, dtype: int64"
      ]
     },
     "execution_count": 3,
     "metadata": {},
     "output_type": "execute_result"
    }
   ],
   "source": [
    "df['target'].value_counts()"
   ]
  },
  {
   "cell_type": "code",
   "execution_count": 4,
   "id": "7794c589",
   "metadata": {},
   "outputs": [],
   "source": [
    "df_0_class = df[df['target']==0]\n",
    "df_1_class = df[df['target']==1]\n",
    "df_0_class_undersampled = df_0_class.sample(df_1_class.shape[0])\n",
    "df = pd.concat([df_0_class_undersampled, df_1_class], axis=0)\n"
   ]
  },
  {
   "cell_type": "code",
   "execution_count": 5,
   "id": "89a7ba74",
   "metadata": {},
   "outputs": [
    {
     "data": {
      "text/plain": [
       "0    2114\n",
       "1    2114\n",
       "Name: target, dtype: int64"
      ]
     },
     "execution_count": 5,
     "metadata": {},
     "output_type": "execute_result"
    }
   ],
   "source": [
    "df['target'].value_counts()"
   ]
  },
  {
   "cell_type": "code",
   "execution_count": 6,
   "id": "76153ac2",
   "metadata": {},
   "outputs": [],
   "source": [
    "from sklearn.model_selection import train_test_split\n",
    "X_train, X_test, y_train, y_test = train_test_split(df['text'],df['target'], stratify=df['target'])"
   ]
  },
  {
   "cell_type": "code",
   "execution_count": 7,
   "id": "89b5e26f",
   "metadata": {},
   "outputs": [],
   "source": [
    "import tensorflow as tf\n",
    "import tensorflow_hub as hub\n",
    "import tensorflow_text as text"
   ]
  },
  {
   "cell_type": "code",
   "execution_count": 8,
   "id": "6b423001",
   "metadata": {},
   "outputs": [],
   "source": [
    "import os\n",
    "os.environ[\"TFHUB_CACHE_DIR\"] = \"some_dir\"\n",
    "preprocess = hub.KerasLayer(\"https://tfhub.dev/tensorflow/bert_en_uncased_preprocess/3\")\n",
    "encoder = hub.KerasLayer(\"https://tfhub.dev/tensorflow/bert_en_uncased_L-12_H-768_A-12/4\")\n",
    "bert_preprocess_model = hub.KerasLayer(preprocess)\n",
    "bert_encoder = hub.KerasLayer(encoder)"
   ]
  },
  {
   "cell_type": "code",
   "execution_count": 9,
   "id": "423acede",
   "metadata": {},
   "outputs": [],
   "source": [
    "text_input = tf.keras.layers.Input(shape=(), dtype=tf.string, name='text-layer')\n",
    "preprocessed_text = bert_preprocess_model(text_input)\n",
    "outputs = bert_encoder(preprocessed_text)\n",
    "d_layer = tf.keras.layers.Dropout(0.1, name=\"dropout-layer\")(outputs['pooled_output'])\n",
    "d_layer = tf.keras.layers.Dense(1, activation='sigmoid', name=\"output\")(d_layer)\n",
    "model = tf.keras.Model(inputs=[text_input], outputs = [d_layer])"
   ]
  },
  {
   "cell_type": "code",
   "execution_count": 10,
   "id": "7d07844e",
   "metadata": {},
   "outputs": [
    {
     "name": "stdout",
     "output_type": "stream",
     "text": [
      "Model: \"model\"\n",
      "__________________________________________________________________________________________________\n",
      " Layer (type)                   Output Shape         Param #     Connected to                     \n",
      "==================================================================================================\n",
      " text-layer (InputLayer)        [(None,)]            0           []                               \n",
      "                                                                                                  \n",
      " keras_layer_2 (KerasLayer)     {'input_type_ids':   0           ['text-layer[0][0]']             \n",
      "                                (None, 128),                                                      \n",
      "                                 'input_word_ids':                                                \n",
      "                                (None, 128),                                                      \n",
      "                                 'input_mask': (Non                                               \n",
      "                                e, 128)}                                                          \n",
      "                                                                                                  \n",
      " keras_layer_3 (KerasLayer)     {'pooled_output': (  109482241   ['keras_layer_2[0][0]',          \n",
      "                                None, 768),                       'keras_layer_2[0][1]',          \n",
      "                                 'encoder_outputs':               'keras_layer_2[0][2]']          \n",
      "                                 [(None, 128, 768),                                               \n",
      "                                 (None, 128, 768),                                                \n",
      "                                 (None, 128, 768),                                                \n",
      "                                 (None, 128, 768),                                                \n",
      "                                 (None, 128, 768),                                                \n",
      "                                 (None, 128, 768),                                                \n",
      "                                 (None, 128, 768),                                                \n",
      "                                 (None, 128, 768),                                                \n",
      "                                 (None, 128, 768),                                                \n",
      "                                 (None, 128, 768),                                                \n",
      "                                 (None, 128, 768),                                                \n",
      "                                 (None, 128, 768)],                                               \n",
      "                                 'default': (None,                                                \n",
      "                                768),                                                             \n",
      "                                 'sequence_output':                                               \n",
      "                                 (None, 128, 768)}                                                \n",
      "                                                                                                  \n",
      " dropout-layer (Dropout)        (None, 768)          0           ['keras_layer_3[0][13]']         \n",
      "                                                                                                  \n",
      " output (Dense)                 (None, 1)            769         ['dropout-layer[0][0]']          \n",
      "                                                                                                  \n",
      "==================================================================================================\n",
      "Total params: 109,483,010\n",
      "Trainable params: 769\n",
      "Non-trainable params: 109,482,241\n",
      "__________________________________________________________________________________________________\n"
     ]
    }
   ],
   "source": [
    "model.summary()"
   ]
  },
  {
   "cell_type": "code",
   "execution_count": 11,
   "id": "3b1a4a98",
   "metadata": {},
   "outputs": [],
   "source": [
    "m= [\n",
    "      tf.keras.metrics.BinaryAccuracy(name='accuracy'),\n",
    "      tf.keras.metrics.Precision(name='precision'),\n",
    "      tf.keras.metrics.Recall(name='recall')\n",
    "]\n",
    "model.compile(optimizer='adam', loss='binary_crossentropy', metrics=m)"
   ]
  },
  {
   "cell_type": "code",
   "execution_count": 12,
   "id": "d8ed5769",
   "metadata": {},
   "outputs": [
    {
     "name": "stdout",
     "output_type": "stream",
     "text": [
      "Epoch 1/10\n",
      "100/100 [==============================] - 788s 8s/step - loss: 0.6343 - accuracy: 0.6455 - precision: 0.6451 - recall: 0.6467\n",
      "Epoch 2/10\n",
      "100/100 [==============================] - 866s 9s/step - loss: 0.5953 - accuracy: 0.6966 - precision: 0.6970 - recall: 0.6953\n",
      "Epoch 3/10\n",
      "100/100 [==============================] - 748s 7s/step - loss: 0.5735 - accuracy: 0.7133 - precision: 0.7175 - recall: 0.7035\n",
      "Epoch 4/10\n",
      "100/100 [==============================] - 874s 9s/step - loss: 0.5638 - accuracy: 0.7256 - precision: 0.7372 - recall: 0.7009\n",
      "Epoch 5/10\n",
      "100/100 [==============================] - 818s 8s/step - loss: 0.5521 - accuracy: 0.7319 - precision: 0.7351 - recall: 0.7249\n",
      "Epoch 6/10\n",
      "100/100 [==============================] - 753s 8s/step - loss: 0.5391 - accuracy: 0.7376 - precision: 0.7418 - recall: 0.7287\n",
      "Epoch 7/10\n",
      "100/100 [==============================] - 714s 7s/step - loss: 0.5356 - accuracy: 0.7468 - precision: 0.7529 - recall: 0.7344\n",
      "Epoch 8/10\n",
      "100/100 [==============================] - 715s 7s/step - loss: 0.5268 - accuracy: 0.7436 - precision: 0.7513 - recall: 0.7281\n",
      "Epoch 9/10\n",
      "100/100 [==============================] - 719s 7s/step - loss: 0.5249 - accuracy: 0.7452 - precision: 0.7492 - recall: 0.7369\n",
      "Epoch 10/10\n",
      "100/100 [==============================] - 721s 7s/step - loss: 0.5249 - accuracy: 0.7477 - precision: 0.7611 - recall: 0.7218\n"
     ]
    },
    {
     "data": {
      "text/plain": [
       "<keras.callbacks.History at 0x209c8e40670>"
      ]
     },
     "execution_count": 12,
     "metadata": {},
     "output_type": "execute_result"
    }
   ],
   "source": [
    "model.fit(X_train, y_train, epochs=10)"
   ]
  },
  {
   "cell_type": "code",
   "execution_count": 13,
   "id": "66cc8069",
   "metadata": {},
   "outputs": [
    {
     "name": "stdout",
     "output_type": "stream",
     "text": [
      "34/34 [==============================] - 254s 7s/step - loss: 0.5187 - accuracy: 0.7512 - precision: 0.8023 - recall: 0.6673\n"
     ]
    },
    {
     "data": {
      "text/plain": [
       "[0.5187166929244995,\n",
       " 0.7511826157569885,\n",
       " 0.8022727370262146,\n",
       " 0.6672967672348022]"
      ]
     },
     "execution_count": 13,
     "metadata": {},
     "output_type": "execute_result"
    }
   ],
   "source": [
    "model.evaluate(X_test, y_test)"
   ]
  },
  {
   "cell_type": "code",
   "execution_count": 14,
   "id": "b1a9cefc",
   "metadata": {},
   "outputs": [
    {
     "data": {
      "text/plain": [
       "array([[441,  87],\n",
       "       [176, 353]], dtype=int64)"
      ]
     },
     "execution_count": 14,
     "metadata": {},
     "output_type": "execute_result"
    }
   ],
   "source": [
    "import numpy as np\n",
    "y_predicted = model.predict(X_test)\n",
    "y_predicted = y_predicted.flatten()\n",
    "y_predicted = np.where(y_predicted > 0.5, 1, 0)\n",
    "from sklearn.metrics import confusion_matrix, classification_report\n",
    "matrix = confusion_matrix(y_test, y_predicted)\n",
    "matrix"
   ]
  },
  {
   "cell_type": "code",
   "execution_count": 15,
   "id": "6dcc4ec3",
   "metadata": {},
   "outputs": [
    {
     "name": "stdout",
     "output_type": "stream",
     "text": [
      "              precision    recall  f1-score   support\n",
      "\n",
      "           0       0.71      0.84      0.77       528\n",
      "           1       0.80      0.67      0.73       529\n",
      "\n",
      "    accuracy                           0.75      1057\n",
      "   macro avg       0.76      0.75      0.75      1057\n",
      "weighted avg       0.76      0.75      0.75      1057\n",
      "\n"
     ]
    }
   ],
   "source": [
    "print(classification_report(y_test, y_predicted))"
   ]
  },
  {
   "cell_type": "code",
   "execution_count": 16,
   "id": "06b9e11b",
   "metadata": {},
   "outputs": [],
   "source": [
    "X_trialTest = [\n",
    "    \"500 people died from a collapsed building\",\n",
    "    \"Eruption in Indonesia\",\n",
    "    \"I Am a disco dancer\",\n",
    "    \"Will she ever be mine?\",\n",
    "    \"I am the monster\",\n",
    "    \"My heart is flooded\",\n",
    "     \"Fisherman recalls racing tsunami, raining rocks after Tongan volcano erupted\",\n",
    "    \"I am melting for her\",\n",
    "    \"I took a hit\",\n",
    "    \"Road safety panel concerned over rise in accidents on highways\",\n",
    "    \"Maharashtra: NGT nails CSTPS for high pollution, slaps Rs 5 crore\",\n",
    "    \"No effective provision to punish, fine nylon manja ban violators: HC\",\n",
    "    \"2,498 farmers ended their lives in 11 months of 2021 in Maharashtra: RTI reply\",\n",
    "    \"Delhi: One-stop portal to drive electric vehicle journey\",\n",
    "    \"Tongan 'real life Aquaman' survives 27-hour swim after tsunami\",\n",
    "    \"Biden administration unveils plan to combat worsening US wildfires\",\n",
    "    \"Karol Bagh parking: AAP, BJP spar over tendering process\",\n",
    "    \"Bulli Bai case: Mumbai police arrest MBA graduate from Odisha\",\n",
    "    \"Trees damaged on CR Park stretch again: Activist\",\n",
    "    \"Magnitude 5.6 quake hits western Afghanistan, killing more than 20\"\n",
    "    \n",
    "]"
   ]
  },
  {
   "cell_type": "code",
   "execution_count": 17,
   "id": "9f404a4b",
   "metadata": {},
   "outputs": [],
   "source": [
    "# y_predicted = model.predict(X_trialTest)\n",
    "# print(y_predicted)\n",
    "# counter = 0\n",
    "# for i in y_predicted:\n",
    "#     print(X_trialTest[counter]+\"-------->\", \"True\" if i >0.75 else \"False\")\n",
    "#     counter+=1"
   ]
  },
  {
   "cell_type": "code",
   "execution_count": 19,
   "id": "ad6c42c9",
   "metadata": {},
   "outputs": [
    {
     "name": "stderr",
     "output_type": "stream",
     "text": [
      "WARNING:absl:Function `_wrapped_model` contains input name(s) text-layer with unsupported characters which will be renamed to text_layer in the SavedModel.\n",
      "WARNING:absl:Found untraced functions such as keras_layer_layer_call_fn, keras_layer_layer_call_and_return_conditional_losses, keras_layer_1_layer_call_fn, keras_layer_1_layer_call_and_return_conditional_losses, keras_layer_layer_call_fn while saving (showing 5 of 925). These functions will not be directly callable after loading.\n"
     ]
    },
    {
     "name": "stdout",
     "output_type": "stream",
     "text": [
      "INFO:tensorflow:Assets written to: model\\assets\n"
     ]
    },
    {
     "name": "stderr",
     "output_type": "stream",
     "text": [
      "INFO:tensorflow:Assets written to: model\\assets\n"
     ]
    }
   ],
   "source": [
    "model.save(\"model\",include_optimizer=False) "
   ]
  },
  {
   "cell_type": "code",
   "execution_count": null,
   "id": "69978822",
   "metadata": {},
   "outputs": [],
   "source": []
  }
 ],
 "metadata": {
  "kernelspec": {
   "display_name": "Python 3 (ipykernel)",
   "language": "python",
   "name": "python3"
  },
  "language_info": {
   "codemirror_mode": {
    "name": "ipython",
    "version": 3
   },
   "file_extension": ".py",
   "mimetype": "text/x-python",
   "name": "python",
   "nbconvert_exporter": "python",
   "pygments_lexer": "ipython3",
   "version": "3.9.7"
  }
 },
 "nbformat": 4,
 "nbformat_minor": 5
}
